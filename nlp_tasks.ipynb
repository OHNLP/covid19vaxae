{
 "cells": [
  {
   "cell_type": "markdown",
   "metadata": {
    "id": "dBQEt_LprgU5"
   },
   "source": [
    "# NLP Classification\n",
    "\n"
   ]
  },
  {
   "cell_type": "code",
   "execution_count": 54,
   "metadata": {
    "id": "eAIGEVimsmuU"
   },
   "outputs": [],
   "source": [
    "from sklearn.metrics import classification_report\n",
    "from sklearn.ensemble import RandomForestClassifier \n",
    "from sklearn.model_selection import train_test_split\n",
    "from sklearn.metrics import accuracy_score\n",
    "from sklearn.feature_extraction.text import TfidfVectorizer\n",
    "\n",
    "from sklearn.feature_selection import SelectKBest\n",
    "from sklearn.feature_selection import chi2\n",
    "\n",
    "import pandas as pd\n",
    "import numpy as np"
   ]
  },
  {
   "cell_type": "markdown",
   "metadata": {
    "id": "VKtvVadJwLre"
   },
   "source": [
    "# Load data\n",
    "\n",
    "We could load data from the GitHub repo or other data sources.\n",
    "When using Google Colab, we could also upload the data file manually."
   ]
  },
  {
   "cell_type": "code",
   "execution_count": 27,
   "metadata": {
    "colab": {
     "base_uri": "https://localhost:8080/",
     "height": 238
    },
    "id": "gXXgVtQTwYHv",
    "outputId": "78e2c21e-006a-4c9b-d294-956cf48668fe"
   },
   "outputs": [
    {
     "name": "stdout",
     "output_type": "stream",
     "text": [
      "* loaded 500 sample\n",
      "* loaded 15436 large\n"
     ]
    },
    {
     "data": {
      "text/html": [
       "<div>\n",
       "<style scoped>\n",
       "    .dataframe tbody tr th:only-of-type {\n",
       "        vertical-align: middle;\n",
       "    }\n",
       "\n",
       "    .dataframe tbody tr th {\n",
       "        vertical-align: top;\n",
       "    }\n",
       "\n",
       "    .dataframe thead th {\n",
       "        text-align: right;\n",
       "    }\n",
       "</style>\n",
       "<table border=\"1\" class=\"dataframe\">\n",
       "  <thead>\n",
       "    <tr style=\"text-align: right;\">\n",
       "      <th></th>\n",
       "      <th>VAERS_ID</th>\n",
       "      <th>AGE_YRS</th>\n",
       "      <th>SEX</th>\n",
       "      <th>VAX_DATE</th>\n",
       "      <th>SYMPTOM_TEXT</th>\n",
       "      <th>VAX_MANU</th>\n",
       "      <th>SYMPTOM</th>\n",
       "    </tr>\n",
       "  </thead>\n",
       "  <tbody>\n",
       "    <tr>\n",
       "      <th>0</th>\n",
       "      <td>1125968</td>\n",
       "      <td>53.0</td>\n",
       "      <td>F</td>\n",
       "      <td>2021-03-22</td>\n",
       "      <td>Janssen Covid -19 Vaccine EUA  Fever for about...</td>\n",
       "      <td>JANSSEN</td>\n",
       "      <td>Pyrexia</td>\n",
       "    </tr>\n",
       "    <tr>\n",
       "      <th>1</th>\n",
       "      <td>932320</td>\n",
       "      <td>41.0</td>\n",
       "      <td>F</td>\n",
       "      <td>2021-01-08</td>\n",
       "      <td>fever of 101F that began approximately 12 hour...</td>\n",
       "      <td>PFIZER\\BIONTECH</td>\n",
       "      <td>Pyrexia</td>\n",
       "    </tr>\n",
       "    <tr>\n",
       "      <th>2</th>\n",
       "      <td>1130037</td>\n",
       "      <td>45.0</td>\n",
       "      <td>F</td>\n",
       "      <td>2021-03-22</td>\n",
       "      <td>Low grade 100.5 fever about 10 hours after vac...</td>\n",
       "      <td>JANSSEN</td>\n",
       "      <td>Pyrexia</td>\n",
       "    </tr>\n",
       "    <tr>\n",
       "      <th>3</th>\n",
       "      <td>933191</td>\n",
       "      <td>27.0</td>\n",
       "      <td>F</td>\n",
       "      <td>2021-01-08</td>\n",
       "      <td>Temperature of 99 by 11:00 PM on 1/8, had a fe...</td>\n",
       "      <td>MODERNA</td>\n",
       "      <td>Pyrexia</td>\n",
       "    </tr>\n",
       "    <tr>\n",
       "      <th>4</th>\n",
       "      <td>1138026</td>\n",
       "      <td>33.0</td>\n",
       "      <td>M</td>\n",
       "      <td>2021-03-05</td>\n",
       "      <td>For 24 hours straight he ran a fever over 103 ...</td>\n",
       "      <td>JANSSEN</td>\n",
       "      <td>Pyrexia</td>\n",
       "    </tr>\n",
       "  </tbody>\n",
       "</table>\n",
       "</div>"
      ],
      "text/plain": [
       "   VAERS_ID  AGE_YRS  ...         VAX_MANU  SYMPTOM\n",
       "0   1125968     53.0  ...          JANSSEN  Pyrexia\n",
       "1    932320     41.0  ...  PFIZER\\BIONTECH  Pyrexia\n",
       "2   1130037     45.0  ...          JANSSEN  Pyrexia\n",
       "3    933191     27.0  ...          MODERNA  Pyrexia\n",
       "4   1138026     33.0  ...          JANSSEN  Pyrexia\n",
       "\n",
       "[5 rows x 7 columns]"
      ]
     },
     "execution_count": 27,
     "metadata": {
      "tags": []
     },
     "output_type": "execute_result"
    }
   ],
   "source": [
    "# define the data URL\n",
    "sample_data_url = 'https://raw.githubusercontent.com/OHNLP/covid19vaxae/main/sample.csv'\n",
    "large_data_url = 'https://raw.githubusercontent.com/OHNLP/covid19vaxae/main/large.csv'\n",
    "\n",
    "# load data by Python Pandas\n",
    "df_sample = pd.read_csv(sample_data_url)\n",
    "df_large = pd.read_csv(large_data_url)\n",
    "\n",
    "print('* loaded %s sample' % len(df_sample))\n",
    "print('* loaded %s large' % len(df_large))\n",
    "\n",
    "# preprocessing the data\n",
    "# for those NaN values, fill with forward method\n",
    "# more details: https://pandas.pydata.org/docs/reference/api/pandas.DataFrame.fillna.html\n",
    "df_sample.fillna(method='ffill', inplace=True)\n",
    "df_large.fillna(method='ffill', inplace=True)\n",
    "\n",
    "# show it looks\n",
    "df_sample.head()"
   ]
  },
  {
   "cell_type": "markdown",
   "metadata": {
    "id": "BzuHsWRGw_a9"
   },
   "source": [
    "# Model 1: Very simple model\n",
    "\n",
    "Before we start something fancy and complex, let's try a very simple model.\n",
    "It only uses the age, sex, and the vaccine name to predict the adverse event.\n",
    "Although we could imagine how poor the performance is, let's give a try."
   ]
  },
  {
   "cell_type": "markdown",
   "metadata": {
    "id": "n6cYm6W72v57"
   },
   "source": [
    "## Prepare 3 features"
   ]
  },
  {
   "cell_type": "code",
   "execution_count": 121,
   "metadata": {
    "colab": {
     "base_uri": "https://localhost:8080/"
    },
    "id": "tR0TYc5RyQHL",
    "outputId": "6d103a22-9749-465e-d110-66c955993a41"
   },
   "outputs": [
    {
     "name": "stdout",
     "output_type": "stream",
     "text": [
      "* dict_vax2num: {'JANSSEN': 0, 'PFIZER\\\\BIONTECH': 1, 'MODERNA': 2, 'UNKNOWN MANUFACTURER': 3}\n",
      "* get train set (400, 3)\n",
      "     AGE_YRS  SEX  VAX_MANU\n",
      "381     25.0    0         1\n",
      "211     78.0    1         2\n",
      "260     35.0    0         1\n",
      "276     20.0    0         0\n",
      "409     43.0    0         0\n",
      "* get test set (100, 3)\n",
      "     AGE_YRS  SEX  VAX_MANU\n",
      "354     71.0    0         1\n",
      "372     33.0    1         0\n",
      "452     36.0    1         1\n",
      "346     21.0    0         2\n",
      "58      49.0    0         2\n"
     ]
    },
    {
     "name": "stderr",
     "output_type": "stream",
     "text": [
      "/usr/local/lib/python3.7/dist-packages/ipykernel_launcher.py:13: SettingWithCopyWarning: \n",
      "A value is trying to be set on a copy of a slice from a DataFrame.\n",
      "Try using .loc[row_indexer,col_indexer] = value instead\n",
      "\n",
      "See the caveats in the documentation: https://pandas.pydata.org/pandas-docs/stable/user_guide/indexing.html#returning-a-view-versus-a-copy\n",
      "  del sys.path[0]\n",
      "/usr/local/lib/python3.7/dist-packages/ipykernel_launcher.py:16: SettingWithCopyWarning: \n",
      "A value is trying to be set on a copy of a slice from a DataFrame.\n",
      "Try using .loc[row_indexer,col_indexer] = value instead\n",
      "\n",
      "See the caveats in the documentation: https://pandas.pydata.org/pandas-docs/stable/user_guide/indexing.html#returning-a-view-versus-a-copy\n",
      "  app.launch_new_instance()\n"
     ]
    }
   ],
   "source": [
    "# using this dictionary to convert the vaccine name to a number\n",
    "dict_vax2num = dict(zip(\n",
    "    df_sample.VAX_MANU.unique().tolist(), \n",
    "    np.arange(df_sample.VAX_MANU.nunique())\n",
    "))\n",
    "print('* dict_vax2num:', dict_vax2num)\n",
    "\n",
    "# In this toy model, we use age, sex, the vaccine name as features\n",
    "X = df_sample[['AGE_YRS', 'SEX', 'VAX_MANU']]\n",
    "y = df_sample['SYMPTOM']\n",
    "\n",
    "# convert the sex from text to number\n",
    "X['SEX'] = X['SEX'].apply(lambda v: 1 if v == 'M' else 0)\n",
    "\n",
    "# convert the vaccine name to number\n",
    "X['VAX_MANU'] = X['VAX_MANU'].apply(lambda v: dict_vax2num[v])\n",
    "\n",
    "# split the train/test sets, we use 20% of records for test\n",
    "X_train, X_test, y_train, y_test = train_test_split(\n",
    "    X, y, test_size=0.2\n",
    ")\n",
    "print('* get train set', X_train.shape)\n",
    "print(X_train.head(5))\n",
    "\n",
    "print('* get test set', X_test.shape)\n",
    "print(X_test.head(5))"
   ]
  },
  {
   "cell_type": "markdown",
   "metadata": {
    "id": "PedZTZlC2098"
   },
   "source": [
    "## Train a classifier"
   ]
  },
  {
   "cell_type": "code",
   "execution_count": 122,
   "metadata": {
    "colab": {
     "base_uri": "https://localhost:8080/"
    },
    "id": "_Zv-sxUh29u8",
    "outputId": "6c3db1cf-3e2e-4003-8825-70a00ca29035"
   },
   "outputs": [
    {
     "name": "stdout",
     "output_type": "stream",
     "text": [
      "                     precision    recall  f1-score   support\n",
      "\n",
      "              Chill       0.00      0.00      0.00        10\n",
      "          Dizziness       0.25      0.20      0.22        10\n",
      "            Fatigue       0.00      0.00      0.00         4\n",
      "           Headache       0.00      0.00      0.00        14\n",
      "Injection_site_pain       0.12      0.18      0.15        11\n",
      "            Myalgia       0.09      0.12      0.11         8\n",
      "             Nausea       0.00      0.00      0.00         8\n",
      "               Pain       0.22      0.18      0.20        11\n",
      "  Pain_in_extremity       0.18      0.17      0.17        12\n",
      "            Pyrexia       0.09      0.08      0.09        12\n",
      "\n",
      "           accuracy                           0.10       100\n",
      "          macro avg       0.10      0.09      0.09       100\n",
      "       weighted avg       0.10      0.10      0.10       100\n",
      "\n"
     ]
    }
   ],
   "source": [
    "# we use Random Forest Classifier\n",
    "# since we only have 3 features for each records, 40 trees are enough\n",
    "clf = RandomForestClassifier(n_estimators=40, random_state=0)\n",
    "\n",
    "# train the model using our training set\n",
    "model1 = clf.fit(X_train, y_train)\n",
    "\n",
    "# use the trained model to predict the test set\n",
    "# since we already know the labels for the test set\n",
    "# it's a test in fact\n",
    "y_pred = model1.predict(X_test)\n",
    "\n",
    "# get the test results\n",
    "result1 = classification_report(y_test, y_pred)\n",
    "\n",
    "# OK, we know it won't be not good at all.\n",
    "# and ... yes, it's not good :p\n",
    "print(result1)"
   ]
  },
  {
   "cell_type": "markdown",
   "metadata": {
    "id": "6t6mzupY6oGT"
   },
   "source": [
    "# Model 2: Better model\n",
    "\n",
    "Now, let's try a better model by using the text information. \n",
    "\n",
    "There are many ways to extract the text features.\n",
    "In this demo model, we use the basic TF-IDF"
   ]
  },
  {
   "cell_type": "markdown",
   "metadata": {
    "id": "3Il5HTuC6wK8"
   },
   "source": [
    "## Prepare symptom text features"
   ]
  },
  {
   "cell_type": "code",
   "execution_count": 135,
   "metadata": {
    "colab": {
     "base_uri": "https://localhost:8080/"
    },
    "id": "trAAs8FC6zO3",
    "outputId": "07f988fa-16c7-4ba5-e6ad-881c9a4f2211"
   },
   "outputs": [
    {
     "name": "stdout",
     "output_type": "stream",
     "text": [
      "* get train set (400, 2647)\n",
      "* get test set (100, 2647)\n"
     ]
    }
   ],
   "source": [
    "# this time, we only use the symptom_text to get features.\n",
    "X = df_sample['SYMPTOM_TEXT']\n",
    "# still use symptom as the label\n",
    "y = df_sample['SYMPTOM']\n",
    "\n",
    "# but the long text it self couldn't be used as feature\n",
    "# we need to convert the text into a list of numbers (or vector)\n",
    "# let's use a very popular tool called TF-IDF\n",
    "# more details about this method could be found here:\n",
    "# https://scikit-learn.org/stable/modules/generated/sklearn.feature_extraction.text.TfidfVectorizer.html\n",
    "# first, let's get a vectorizer\n",
    "vcer = TfidfVectorizer(stop_words='english')\n",
    "\n",
    "# then convert!\n",
    "X = vcer.fit_transform(X)\n",
    "\n",
    "\n",
    "# split the train/test sets, we use 20% of records for test\n",
    "X_train, X_test, y_train, y_test = train_test_split(\n",
    "    X, y, test_size=0.2\n",
    ")\n",
    "\n",
    "# as we can see, now we have a very large feature vector\n",
    "# which contains more than 2000 numbers to represent a report\n",
    "print('* get train set', X_train.shape)\n",
    "print('* get test set', X_test.shape)\n"
   ]
  },
  {
   "cell_type": "markdown",
   "metadata": {
    "id": "LQ19gd889Pl_"
   },
   "source": [
    "## Train a classifier"
   ]
  },
  {
   "cell_type": "code",
   "execution_count": 136,
   "metadata": {
    "colab": {
     "base_uri": "https://localhost:8080/"
    },
    "id": "McO9DgfV9UTM",
    "outputId": "7e0f5836-bd4a-4b82-b449-8ffd7226a039"
   },
   "outputs": [
    {
     "name": "stdout",
     "output_type": "stream",
     "text": [
      "                     precision    recall  f1-score   support\n",
      "\n",
      "              Chill       0.92      1.00      0.96        11\n",
      "          Dizziness       0.80      0.67      0.73         6\n",
      "            Fatigue       1.00      0.62      0.77         8\n",
      "           Headache       0.83      0.42      0.56        12\n",
      "Injection_site_pain       0.60      0.90      0.72        10\n",
      "            Myalgia       0.71      0.56      0.63         9\n",
      "             Nausea       0.30      0.75      0.43         4\n",
      "               Pain       0.56      0.36      0.43        14\n",
      "  Pain_in_extremity       0.50      0.53      0.52        15\n",
      "            Pyrexia       0.73      1.00      0.85        11\n",
      "\n",
      "           accuracy                           0.66       100\n",
      "          macro avg       0.70      0.68      0.66       100\n",
      "       weighted avg       0.70      0.66      0.65       100\n",
      "\n"
     ]
    }
   ],
   "source": [
    "# we use Random Forest Classifier\n",
    "# now, this time since we have more features (2647 feature!),\n",
    "# we could use more trees to improve the performance.\n",
    "clf = RandomForestClassifier(n_estimators=200, random_state=0)\n",
    "\n",
    "# train the model using our training set\n",
    "model2 = clf.fit(X_train, y_train)\n",
    "\n",
    "# use the trained model to predict the test set\n",
    "# since we already know the labels for the test set\n",
    "# it's a test in fact\n",
    "y_pred = model2.predict(X_test)\n",
    "\n",
    "# get the test results\n",
    "result2 = classification_report(y_test, y_pred)\n",
    "\n",
    "# yes! the performance is much better than previous one!\n",
    "# the overall F1 is not bad\n",
    "print(result2)"
   ]
  },
  {
   "cell_type": "markdown",
   "metadata": {
    "id": "5J8etLFD6JvA"
   },
   "source": [
    "# Model 3: Next model\n",
    "\n",
    "Now we have text features and other features, how about use all of them?"
   ]
  },
  {
   "cell_type": "markdown",
   "metadata": {
    "id": "m9DFu6gK-v4d"
   },
   "source": [
    "## Prepare more features"
   ]
  },
  {
   "cell_type": "code",
   "execution_count": 147,
   "metadata": {
    "colab": {
     "base_uri": "https://localhost:8080/"
    },
    "id": "csTf-btt-9ln",
    "outputId": "c48b0e3f-c85d-4c60-f15c-9f668c3de38d"
   },
   "outputs": [
    {
     "name": "stdout",
     "output_type": "stream",
     "text": [
      "* X_sym: (500, 2647)\n",
      "* get train set (400, 52)\n",
      "* get test set (100, 52)\n"
     ]
    }
   ],
   "source": [
    "# this time, we use both symptom_text and ages and sex for features.\n",
    "X = df_sample[['SYMPTOM_TEXT', 'AGE_YRS', 'SEX']]\n",
    "# still use symptom as the label\n",
    "y = df_sample['SYMPTOM']\n",
    "\n",
    "# but the long text it self couldn't be used as feature\n",
    "# we need to convert the text into a list of numbers (or vector)\n",
    "# let's use a very popular tool called TF-IDF\n",
    "# more details about this method could be found here:\n",
    "# https://scikit-learn.org/stable/modules/generated/sklearn.feature_extraction.text.TfidfVectorizer.html\n",
    "# first, let's get a vectorizer\n",
    "vcer = TfidfVectorizer(stop_words='english')\n",
    "\n",
    "# then convert!\n",
    "X_sym = vcer.fit_transform(X['SYMPTOM_TEXT'])\n",
    "print('* X_sym:', X_sym.shape)\n",
    "\n",
    "# but an issue is that the X_sym is too sparse,\n",
    "# we don't need too many zero features\n",
    "# so, we could do a feature selection here\n",
    "# there are a lot of feature selection methods, could be found here:\n",
    "# https://scikit-learn.org/stable/modules/feature_selection.html\n",
    "# we use a simple one, and select only 50 features\n",
    "selector = SelectKBest(chi2, k=50)\n",
    "X_sym = selector.fit_transform(X_sym, y)\n",
    "\n",
    "# also convert the sex feature\n",
    "X_sex = X['SEX'].apply(lambda v: 1 if v == 'M' else 0)\n",
    "\n",
    "# since the symptom text feature is a sparse matrix,\n",
    "# we need to convert it to numpy format\n",
    "# and put age and sex feature in.\n",
    "# then the final number of features are 52\n",
    "X = np.concatenate((\n",
    "    X_sym.toarray(), \n",
    "    X['AGE_YRS'].values[:, None],\n",
    "    X_sex.values[:, None]\n",
    "), axis=1)\n",
    "\n",
    "# split the train/test sets, we use 20% of records for test\n",
    "X_train, X_test, y_train, y_test = train_test_split(\n",
    "    X, y, test_size=0.2\n",
    ")\n",
    "print('* get train set', X_train.shape)\n",
    "print('* get test set', X_test.shape)"
   ]
  },
  {
   "cell_type": "markdown",
   "metadata": {
    "id": "pMBDkNpoCVjn"
   },
   "source": [
    "## Train a classifier"
   ]
  },
  {
   "cell_type": "code",
   "execution_count": 148,
   "metadata": {
    "colab": {
     "base_uri": "https://localhost:8080/"
    },
    "id": "4pocWOBtCSx8",
    "outputId": "581c2389-8a05-4ef5-92bf-155e7ff6cad5"
   },
   "outputs": [
    {
     "name": "stdout",
     "output_type": "stream",
     "text": [
      "                     precision    recall  f1-score   support\n",
      "\n",
      "              Chill       1.00      1.00      1.00        13\n",
      "          Dizziness       1.00      0.78      0.88         9\n",
      "            Fatigue       0.86      0.67      0.75         9\n",
      "           Headache       0.70      0.64      0.67        11\n",
      "Injection_site_pain       0.64      1.00      0.78         7\n",
      "            Myalgia       1.00      0.75      0.86        12\n",
      "             Nausea       0.71      0.71      0.71         7\n",
      "               Pain       0.75      0.75      0.75        12\n",
      "  Pain_in_extremity       0.55      0.86      0.67         7\n",
      "            Pyrexia       0.92      0.92      0.92        13\n",
      "\n",
      "           accuracy                           0.81       100\n",
      "          macro avg       0.81      0.81      0.80       100\n",
      "       weighted avg       0.84      0.81      0.81       100\n",
      "\n"
     ]
    }
   ],
   "source": [
    "# we use Random Forest Classifier\n",
    "# now, this time since we have less features (52 features),\n",
    "# we could use more trees to improve the performance.\n",
    "clf = RandomForestClassifier(n_estimators=200, random_state=0)\n",
    "\n",
    "# train the model using our training set\n",
    "model3 = clf.fit(X_train, y_train)\n",
    "\n",
    "# use the trained model to predict the test set\n",
    "# since we already know the labels for the test set\n",
    "# it's a test in fact\n",
    "y_pred = model3.predict(X_test)\n",
    "\n",
    "# get the test results\n",
    "result3 = classification_report(y_test, y_pred)\n",
    "\n",
    "# yes! the performance is much better than previous one!\n",
    "# the overall F1 is getting better, which is better than the second model!\n",
    "# and depends on the training set, the result may vary each time.\n",
    "print(result3)"
   ]
  },
  {
   "cell_type": "markdown",
   "metadata": {
    "id": "j4_zNaRzsoI4"
   },
   "source": [
    "# Evaluate on the large with model 3\n",
    "\n",
    "Now let's see how the performance is on the large dataset.\n",
    "\n",
    "The code is the same, just change `df_sample` to `df_large`"
   ]
  },
  {
   "cell_type": "markdown",
   "metadata": {
    "id": "OdLWhR-rKwW3"
   },
   "source": [
    "## Prepare the features\n",
    "\n",
    "This time, we don't need to split the dataset into train and test.\n",
    "We will use all of them for test."
   ]
  },
  {
   "cell_type": "code",
   "execution_count": 149,
   "metadata": {
    "colab": {
     "base_uri": "https://localhost:8080/"
    },
    "id": "cQ4PN_mVKefl",
    "outputId": "879c3335-cdcf-4f8d-912d-211741ab8aa1"
   },
   "outputs": [
    {
     "name": "stdout",
     "output_type": "stream",
     "text": [
      "* X_sym: (15436, 14161)\n",
      "* get large test set (15436, 52)\n"
     ]
    }
   ],
   "source": [
    "# this time, we use both symptom_text and ages and sex for features.\n",
    "X = df_large[['SYMPTOM_TEXT', 'AGE_YRS', 'SEX']]\n",
    "# use symptom as the label\n",
    "y = df_large['SYMPTOM']\n",
    "\n",
    "# then convert!\n",
    "X_sym = vcer.transform(X['SYMPTOM_TEXT'])\n",
    "print('* X_sym:', X_sym.shape)\n",
    "\n",
    "# but an issue is that the X_sym is too sparse,\n",
    "# we don't need too many zero features\n",
    "# so, we could do a feature selection here\n",
    "# there are a lot of feature selection methods, could be found here:\n",
    "# https://scikit-learn.org/stable/modules/feature_selection.html\n",
    "# we use a simple one, and select only 50 features\n",
    "selector = SelectKBest(chi2, k=50)\n",
    "X_sym = selector.fit_transform(X_sym, y)\n",
    "\n",
    "# also convert the sex feature\n",
    "X_sex = X['SEX'].apply(lambda v: 1 if v == 'M' else 0)\n",
    "\n",
    "# since the symptom text feature is a sparse matrix,\n",
    "# we need to convert it to numpy format\n",
    "# and put age and sex feature in\n",
    "X = np.concatenate((\n",
    "    X_sym.toarray(), \n",
    "    X['AGE_YRS'].values[:, None],\n",
    "    X_sex.values[:, None]\n",
    "), axis=1)\n",
    "\n",
    "# we don't need to split the dataset, just run the test\n",
    "print('* get large test set', X.shape)"
   ]
  },
  {
   "cell_type": "markdown",
   "metadata": {
    "id": "yiHiD_euK8ct"
   },
   "source": [
    "## Evaluate"
   ]
  },
  {
   "cell_type": "code",
   "execution_count": 150,
   "metadata": {
    "colab": {
     "base_uri": "https://localhost:8080/"
    },
    "id": "YtKY5DPUK-fZ",
    "outputId": "248dfc4a-172b-43ef-ce71-107d69116dfa"
   },
   "outputs": [
    {
     "name": "stdout",
     "output_type": "stream",
     "text": [
      "                     precision    recall  f1-score   support\n",
      "\n",
      "              Chill       0.71      0.43      0.53      7315\n",
      "          Dizziness       0.78      0.62      0.69      3447\n",
      "            Fatigue       0.00      0.00      0.00      1985\n",
      "           Headache       0.14      0.32      0.19      1576\n",
      "Injection_site_pain       0.04      0.04      0.04       472\n",
      "            Myalgia       0.03      0.13      0.05        55\n",
      "             Nausea       0.03      0.16      0.05       135\n",
      "               Pain       0.02      0.26      0.03       126\n",
      "  Pain_in_extremity       0.04      0.06      0.05       258\n",
      "            Pyrexia       0.00      0.00      0.00        67\n",
      "\n",
      "           accuracy                           0.38     15436\n",
      "          macro avg       0.18      0.20      0.16     15436\n",
      "       weighted avg       0.53      0.38      0.43     15436\n",
      "\n"
     ]
    }
   ],
   "source": [
    "# use the trained model3 to predict the test set\n",
    "y_pred = model3.predict(X)\n",
    "\n",
    "# get the test results\n",
    "result_large = classification_report(y, y_pred)\n",
    "\n",
    "# oops! \n",
    "print(result_large)"
   ]
  },
  {
   "cell_type": "markdown",
   "metadata": {
    "id": "tlfjvm6hN0Uk"
   },
   "source": [
    "# Summary\n",
    "\n",
    "As shown in the three models, there are mainly two tasks:\n",
    "\n",
    "1. Extract features from raw data. This reflects how our model abstracts the data.\n",
    "2. Train a classifier based on features. This reflects how we inteprete the relationship between these data and the target (label).\n",
    "\n",
    "Even if we use the same classifier (but with different hyperparameters), the better the quality of the features, the better the overall performance of the model. Advances in these two tasks can improve the performance of our model. "
   ]
  }
 ],
 "metadata": {
  "colab": {
   "collapsed_sections": [],
   "name": "nlp-tasks.ipynb",
   "provenance": [],
   "toc_visible": true
  },
  "kernelspec": {
   "display_name": "Python 3",
   "language": "python",
   "name": "python3"
  },
  "language_info": {
   "codemirror_mode": {
    "name": "ipython",
    "version": 3
   },
   "file_extension": ".py",
   "mimetype": "text/x-python",
   "name": "python",
   "nbconvert_exporter": "python",
   "pygments_lexer": "ipython3",
   "version": "3.8.3"
  }
 },
 "nbformat": 4,
 "nbformat_minor": 4
}
