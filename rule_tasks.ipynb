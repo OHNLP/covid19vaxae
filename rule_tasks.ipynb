{
 "cells": [
  {
   "cell_type": "markdown",
   "metadata": {},
   "source": [
    "# Rule-based classification"
   ]
  },
  {
   "cell_type": "code",
   "execution_count": 22,
   "metadata": {},
   "outputs": [],
   "source": [
    "import nltk\n",
    "import re\n",
    "\n",
    "import pandas as pd\n",
    "import numpy as np\n",
    "from joblib import Parallel, delayed\n",
    "\n",
    "from sklearn.metrics import classification_report"
   ]
  },
  {
   "cell_type": "markdown",
   "metadata": {},
   "source": [
    "# Define a RegExp Classifier\n",
    "\n",
    "To evaluate how our classifier works on our dataset, we create a simple RegExp classifier"
   ]
  },
  {
   "cell_type": "code",
   "execution_count": 41,
   "metadata": {},
   "outputs": [
    {
     "data": {
      "text/plain": [
       "array([1, 1, 0])"
      ]
     },
     "execution_count": 41,
     "metadata": {},
     "output_type": "execute_result"
    }
   ],
   "source": [
    "class RegExpClassifier(object):\n",
    "    \"\"\"\n",
    "    Predict class for X.\n",
    "        The predicted class of an input sample is a result by the given\n",
    "        regular expression\n",
    "        \n",
    "        Parameters\n",
    "        ----------\n",
    "        X : {array-like} or {list}\n",
    "            \n",
    "        Returns\n",
    "        -------\n",
    "        y : ndarray of shape (n_samples,)\n",
    "            The predicted classes.\n",
    "    \"\"\"\n",
    "    def __init__(self, rule, mode='binary'):\n",
    "        super().__init__()\n",
    "        self.mode = mode\n",
    "        self.rule = re.compile(rule, re.MULTILINE | re.IGNORECASE)\n",
    "        \n",
    "    def predict(self, X):\n",
    "        if self.mode == 'binary':\n",
    "            def f(ptn, txt):\n",
    "                r = ptn.findall(txt)\n",
    "                return 0 if len(r)==0 else 1\n",
    "            \n",
    "        else:\n",
    "            def f(ptn, txt):\n",
    "                r = ptn.findall(txt)\n",
    "                return len(r)\n",
    "        \n",
    "        p = self.rule\n",
    "            \n",
    "        r = Parallel(n_jobs=1)(\n",
    "            delayed(f)(p, x) for x in X\n",
    "        )\n",
    "        \n",
    "        r = np.array(r)\n",
    "        return r"
   ]
  },
  {
   "cell_type": "markdown",
   "metadata": {},
   "source": [
    "## Classifier demo"
   ]
  },
  {
   "cell_type": "code",
   "execution_count": 58,
   "metadata": {},
   "outputs": [
    {
     "data": {
      "text/html": [
       "<div>\n",
       "<style scoped>\n",
       "    .dataframe tbody tr th:only-of-type {\n",
       "        vertical-align: middle;\n",
       "    }\n",
       "\n",
       "    .dataframe tbody tr th {\n",
       "        vertical-align: top;\n",
       "    }\n",
       "\n",
       "    .dataframe thead th {\n",
       "        text-align: right;\n",
       "    }\n",
       "</style>\n",
       "<table border=\"1\" class=\"dataframe\">\n",
       "  <thead>\n",
       "    <tr style=\"text-align: right;\">\n",
       "      <th></th>\n",
       "      <th>TEXT</th>\n",
       "      <th>y_pred</th>\n",
       "    </tr>\n",
       "  </thead>\n",
       "  <tbody>\n",
       "    <tr>\n",
       "      <th>0</th>\n",
       "      <td>I got chill</td>\n",
       "      <td>1</td>\n",
       "    </tr>\n",
       "    <tr>\n",
       "      <th>1</th>\n",
       "      <td>I felt coldness</td>\n",
       "      <td>1</td>\n",
       "    </tr>\n",
       "    <tr>\n",
       "      <th>2</th>\n",
       "      <td>What I was feeling is not good</td>\n",
       "      <td>0</td>\n",
       "    </tr>\n",
       "    <tr>\n",
       "      <th>3</th>\n",
       "      <td>OK, not bad</td>\n",
       "      <td>0</td>\n",
       "    </tr>\n",
       "  </tbody>\n",
       "</table>\n",
       "</div>"
      ],
      "text/plain": [
       "                             TEXT  y_pred\n",
       "0                     I got chill       1\n",
       "1                 I felt coldness       1\n",
       "2  What I was feeling is not good       0\n",
       "3                     OK, not bad       0"
      ]
     },
     "execution_count": 58,
     "metadata": {},
     "output_type": "execute_result"
    }
   ],
   "source": [
    "# the rules created manually\n",
    "rule = r\"\"\"(chill|coldness)\"\"\"\n",
    "\n",
    "# create a very small dataset\n",
    "df = pd.DataFrame({'TEXT':[\n",
    "    'I got chill',\n",
    "    'I felt coldness',\n",
    "    'What I was feeling is not good',\n",
    "    'OK, not bad'\n",
    "]})\n",
    "\n",
    "# create a classifier based on this rule\n",
    "model = RegExpClassifier(rule)\n",
    "df['y_pred'] = model.predict(df['TEXT'])\n",
    "\n",
    "# let's show how the results are\n",
    "df"
   ]
  },
  {
   "cell_type": "markdown",
   "metadata": {},
   "source": [
    "# Load sample data"
   ]
  },
  {
   "cell_type": "code",
   "execution_count": 24,
   "metadata": {},
   "outputs": [
    {
     "name": "stdout",
     "output_type": "stream",
     "text": [
      "* loaded 500 sample\n",
      "* loaded 16597 large\n"
     ]
    },
    {
     "data": {
      "text/html": [
       "<div>\n",
       "<style scoped>\n",
       "    .dataframe tbody tr th:only-of-type {\n",
       "        vertical-align: middle;\n",
       "    }\n",
       "\n",
       "    .dataframe tbody tr th {\n",
       "        vertical-align: top;\n",
       "    }\n",
       "\n",
       "    .dataframe thead th {\n",
       "        text-align: right;\n",
       "    }\n",
       "</style>\n",
       "<table border=\"1\" class=\"dataframe\">\n",
       "  <thead>\n",
       "    <tr style=\"text-align: right;\">\n",
       "      <th></th>\n",
       "      <th>VAERS_ID</th>\n",
       "      <th>AGE_YRS</th>\n",
       "      <th>SEX</th>\n",
       "      <th>VAX_DATE</th>\n",
       "      <th>SYMPTOM_TEXT</th>\n",
       "      <th>ALLERGIES</th>\n",
       "      <th>VAX_MANU</th>\n",
       "      <th>SYMPTOMS</th>\n",
       "      <th>NUM_SYMS</th>\n",
       "    </tr>\n",
       "  </thead>\n",
       "  <tbody>\n",
       "    <tr>\n",
       "      <th>0</th>\n",
       "      <td>1120756</td>\n",
       "      <td>66.0</td>\n",
       "      <td>M</td>\n",
       "      <td>2021-03-18</td>\n",
       "      <td>On Friday night, 3/19/21, patient spiked a fev...</td>\n",
       "      <td>Unknown</td>\n",
       "      <td>MODERNA</td>\n",
       "      <td>['Epistaxis', 'Mouth_haemorrhage', 'Dyspnoea',...</td>\n",
       "      <td>5.0</td>\n",
       "    </tr>\n",
       "    <tr>\n",
       "      <th>1</th>\n",
       "      <td>1228750</td>\n",
       "      <td>54.0</td>\n",
       "      <td>F</td>\n",
       "      <td>2021-03-04</td>\n",
       "      <td>Migrane headache, dizziness, motion sickness, ...</td>\n",
       "      <td>None</td>\n",
       "      <td>JANSSEN</td>\n",
       "      <td>['Chills', 'Fatigue', 'Influenza_A_virus_test'...</td>\n",
       "      <td>9.0</td>\n",
       "    </tr>\n",
       "    <tr>\n",
       "      <th>2</th>\n",
       "      <td>1117649</td>\n",
       "      <td>40.0</td>\n",
       "      <td>F</td>\n",
       "      <td>2021-03-19</td>\n",
       "      <td>After 15 minutes of sitting in the waiting are...</td>\n",
       "      <td>I have asthma and year round allergies. NKDA  ...</td>\n",
       "      <td>JANSSEN</td>\n",
       "      <td>['Chills', 'Malaise', 'Pyrexia', 'Pain', 'Dizz...</td>\n",
       "      <td>9.0</td>\n",
       "    </tr>\n",
       "    <tr>\n",
       "      <th>3</th>\n",
       "      <td>1112586</td>\n",
       "      <td>39.0</td>\n",
       "      <td>F</td>\n",
       "      <td>2021-03-18</td>\n",
       "      <td>Complaint of left sided deficit( numbness and ...</td>\n",
       "      <td>None</td>\n",
       "      <td>JANSSEN</td>\n",
       "      <td>['Blood_glucose', 'Road_traffic_accident', 'Pa...</td>\n",
       "      <td>5.0</td>\n",
       "    </tr>\n",
       "    <tr>\n",
       "      <th>4</th>\n",
       "      <td>1215454</td>\n",
       "      <td>70.0</td>\n",
       "      <td>F</td>\n",
       "      <td>2021-04-10</td>\n",
       "      <td>Pt had Johnsons and Johnsons vaccine  Pt prese...</td>\n",
       "      <td>none</td>\n",
       "      <td>JANSSEN</td>\n",
       "      <td>['Dyspnoea', 'Ultrasound_scan_abnormal', 'Comp...</td>\n",
       "      <td>5.0</td>\n",
       "    </tr>\n",
       "  </tbody>\n",
       "</table>\n",
       "</div>"
      ],
      "text/plain": [
       "   VAERS_ID  AGE_YRS SEX    VAX_DATE  \\\n",
       "0   1120756     66.0   M  2021-03-18   \n",
       "1   1228750     54.0   F  2021-03-04   \n",
       "2   1117649     40.0   F  2021-03-19   \n",
       "3   1112586     39.0   F  2021-03-18   \n",
       "4   1215454     70.0   F  2021-04-10   \n",
       "\n",
       "                                        SYMPTOM_TEXT  \\\n",
       "0  On Friday night, 3/19/21, patient spiked a fev...   \n",
       "1  Migrane headache, dizziness, motion sickness, ...   \n",
       "2  After 15 minutes of sitting in the waiting are...   \n",
       "3  Complaint of left sided deficit( numbness and ...   \n",
       "4  Pt had Johnsons and Johnsons vaccine  Pt prese...   \n",
       "\n",
       "                                           ALLERGIES VAX_MANU  \\\n",
       "0                                            Unknown  MODERNA   \n",
       "1                                               None  JANSSEN   \n",
       "2  I have asthma and year round allergies. NKDA  ...  JANSSEN   \n",
       "3                                               None  JANSSEN   \n",
       "4                                               none  JANSSEN   \n",
       "\n",
       "                                            SYMPTOMS  NUM_SYMS  \n",
       "0  ['Epistaxis', 'Mouth_haemorrhage', 'Dyspnoea',...       5.0  \n",
       "1  ['Chills', 'Fatigue', 'Influenza_A_virus_test'...       9.0  \n",
       "2  ['Chills', 'Malaise', 'Pyrexia', 'Pain', 'Dizz...       9.0  \n",
       "3  ['Blood_glucose', 'Road_traffic_accident', 'Pa...       5.0  \n",
       "4  ['Dyspnoea', 'Ultrasound_scan_abnormal', 'Comp...       5.0  "
      ]
     },
     "execution_count": 24,
     "metadata": {},
     "output_type": "execute_result"
    }
   ],
   "source": [
    "# define the data URL\n",
    "sample_data_url = 'm_sample.csv'\n",
    "large_data_url = 'm_large.csv'\n",
    "\n",
    "# load data by Python Pandas\n",
    "df_sample = pd.read_csv(sample_data_url)\n",
    "df_large = pd.read_csv(large_data_url)\n",
    "\n",
    "print('* loaded %s sample' % len(df_sample))\n",
    "print('* loaded %s large' % len(df_large))\n",
    "\n",
    "# preprocessing the data\n",
    "# for those NaN values, fill with forward method\n",
    "# more details: https://pandas.pydata.org/docs/reference/api/pandas.DataFrame.fillna.html\n",
    "df_sample.fillna(method='ffill', inplace=True)\n",
    "df_large.fillna(method='ffill', inplace=True)\n",
    "\n",
    "# show it looks\n",
    "df_sample.head()"
   ]
  },
  {
   "cell_type": "markdown",
   "metadata": {},
   "source": [
    "# Model: Use RegExp"
   ]
  },
  {
   "cell_type": "markdown",
   "metadata": {},
   "source": [
    "## Create RegExp\n",
    "\n",
    "We could define the regular expression for each adverse event here"
   ]
  },
  {
   "cell_type": "code",
   "execution_count": 54,
   "metadata": {},
   "outputs": [],
   "source": [
    "regexps = [\n",
    "    ['Pyrexia', r\"\"\"(fever|pyrexia|ague|elevated temperature|feverishness|frenzy|hyperpyrexia)\"\"\"],\n",
    "    ['Chill', r\"\"\"(chill|coldness)\"\"\"],\n",
    "    ['Headache', r\"\"\"(headache|migraine)\"\"\"],\n",
    "    # add more \n",
    "]"
   ]
  },
  {
   "cell_type": "markdown",
   "metadata": {},
   "source": [
    "## Run the classifier"
   ]
  },
  {
   "cell_type": "code",
   "execution_count": 55,
   "metadata": {},
   "outputs": [
    {
     "name": "stdout",
     "output_type": "stream",
     "text": [
      "************************************************************\n",
      "* Pyrexia result\n",
      "              precision    recall  f1-score   support\n",
      "\n",
      "           0       1.00      0.96      0.98       352\n",
      "           1       0.92      0.99      0.95       148\n",
      "\n",
      "    accuracy                           0.97       500\n",
      "   macro avg       0.96      0.98      0.97       500\n",
      "weighted avg       0.97      0.97      0.97       500\n",
      "\n",
      "************************************************************\n",
      "* Chill result\n",
      "              precision    recall  f1-score   support\n",
      "\n",
      "           0       0.98      0.99      0.99       360\n",
      "           1       0.99      0.96      0.97       140\n",
      "\n",
      "    accuracy                           0.98       500\n",
      "   macro avg       0.98      0.98      0.98       500\n",
      "weighted avg       0.98      0.98      0.98       500\n",
      "\n",
      "************************************************************\n",
      "* Headache result\n",
      "              precision    recall  f1-score   support\n",
      "\n",
      "           0       0.98      0.97      0.98       333\n",
      "           1       0.95      0.97      0.96       167\n",
      "\n",
      "    accuracy                           0.97       500\n",
      "   macro avg       0.97      0.97      0.97       500\n",
      "weighted avg       0.97      0.97      0.97       500\n",
      "\n"
     ]
    }
   ],
   "source": [
    "for i in range(len(regexps)):\n",
    "    symptom = regexps[i][0]\n",
    "    rule = regexps[i][1]\n",
    "\n",
    "    # the features is the text\n",
    "    X = df_sample['SYMPTOM_TEXT']\n",
    "    \n",
    "    # for evaluation, we check the symptoms to see whether the target symptom exists\n",
    "    y = df_sample['SYMPTOMS'].apply(lambda syms: (symptom in syms) + 0)\n",
    "\n",
    "    # create a model based the rule of current symptom\n",
    "    model = RegExpClassifier(rule)\n",
    "    y_pred = model.predict(X)\n",
    "\n",
    "    # get the test results\n",
    "    result = classification_report(y, y_pred)\n",
    "\n",
    "    # and depends on the training set, the result may vary each time.\n",
    "    print('*'*60)\n",
    "    print('* %s result' % symptom)\n",
    "    print(result)"
   ]
  },
  {
   "cell_type": "markdown",
   "metadata": {},
   "source": [
    "As we could see, the human expert's experience is very helpful in getting great performance for classification"
   ]
  },
  {
   "cell_type": "markdown",
   "metadata": {},
   "source": [
    "# Large Evaluation"
   ]
  },
  {
   "cell_type": "code",
   "execution_count": 59,
   "metadata": {},
   "outputs": [
    {
     "name": "stdout",
     "output_type": "stream",
     "text": [
      "************************************************************\n",
      "* Pyrexia result\n",
      "              precision    recall  f1-score   support\n",
      "\n",
      "           0       0.86      0.86      0.86     12244\n",
      "           1       0.61      0.62      0.61      4353\n",
      "\n",
      "    accuracy                           0.80     16597\n",
      "   macro avg       0.74      0.74      0.74     16597\n",
      "weighted avg       0.80      0.80      0.80     16597\n",
      "\n",
      "************************************************************\n",
      "* Chill result\n",
      "              precision    recall  f1-score   support\n",
      "\n",
      "           0       0.98      0.98      0.98     12239\n",
      "           1       0.95      0.95      0.95      4358\n",
      "\n",
      "    accuracy                           0.97     16597\n",
      "   macro avg       0.97      0.97      0.97     16597\n",
      "weighted avg       0.97      0.97      0.97     16597\n",
      "\n",
      "************************************************************\n",
      "* Headache result\n",
      "              precision    recall  f1-score   support\n",
      "\n",
      "           0       0.77      0.84      0.80     11209\n",
      "           1       0.59      0.48      0.53      5388\n",
      "\n",
      "    accuracy                           0.72     16597\n",
      "   macro avg       0.68      0.66      0.67     16597\n",
      "weighted avg       0.71      0.72      0.72     16597\n",
      "\n"
     ]
    }
   ],
   "source": [
    "for i in range(len(regexps)):\n",
    "    symptom = regexps[i][0]\n",
    "    rule = regexps[i][1]\n",
    "\n",
    "    X = df_large['SYMPTOM_TEXT']\n",
    "    y = df_large['SYMPTOMS'].apply(lambda syms: (symptom in syms) + 0)\n",
    "\n",
    "    y_pred = model.predict(X)\n",
    "\n",
    "    # get the test results\n",
    "    result = classification_report(y, y_pred)\n",
    "\n",
    "    # and depends on the training set, the result may vary each time.\n",
    "    print('*'*60)\n",
    "    print('* %s result' % symptom)\n",
    "    print(result)"
   ]
  }
 ],
 "metadata": {
  "kernelspec": {
   "display_name": "Python 3",
   "language": "python",
   "name": "python3"
  },
  "language_info": {
   "codemirror_mode": {
    "name": "ipython",
    "version": 3
   },
   "file_extension": ".py",
   "mimetype": "text/x-python",
   "name": "python",
   "nbconvert_exporter": "python",
   "pygments_lexer": "ipython3",
   "version": "3.8.3"
  }
 },
 "nbformat": 4,
 "nbformat_minor": 4
}
